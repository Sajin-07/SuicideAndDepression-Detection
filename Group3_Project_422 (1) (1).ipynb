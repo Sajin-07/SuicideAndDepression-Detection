{
  "metadata": {
    "kernelspec": {
      "language": "python",
      "display_name": "Python 3",
      "name": "python3"
    },
    "language_info": {
      "name": "python",
      "version": "3.10.13",
      "mimetype": "text/x-python",
      "codemirror_mode": {
        "name": "ipython",
        "version": 3
      },
      "pygments_lexer": "ipython3",
      "nbconvert_exporter": "python",
      "file_extension": ".py"
    },
    "kaggle": {
      "accelerator": "none",
      "dataSources": [
        {
          "sourceId": 8198167,
          "sourceType": "datasetVersion",
          "datasetId": 4856305
        }
      ],
      "dockerImageVersionId": 30702,
      "isInternetEnabled": false,
      "language": "python",
      "sourceType": "notebook",
      "isGpuEnabled": false
    },
    "colab": {
      "provenance": []
    }
  },
  "nbformat_minor": 0,
  "nbformat": 4,
  "cells": [
    {
      "cell_type": "code",
      "source": [
        "# This Python 3 environment comes with many helpful analytics libraries installed\n",
        "# It is defined by the kaggle/python Docker image: https://github.com/kaggle/docker-python\n",
        "# For example, here's several helpful packages to load\n",
        "\n",
        "import numpy as np # linear algebra\n",
        "import pandas as pd # data processing, CSV file I/O (e.g. pd.read_csv)\n",
        "\n",
        "# Input data files are available in the read-only \"../input/\" directory\n",
        "# For example, running this (by clicking run or pressing Shift+Enter) will list all files under the input directory\n",
        "\n",
        "import os\n",
        "for dirname, _, filenames in os.walk('/kaggle/input'):\n",
        "    for filename in filenames:\n",
        "        print(os.path.join(dirname, filename))\n",
        "\n",
        "# You can write up to 20GB to the current directory (/kaggle/working/) that gets preserved as output when you create a version using \"Save & Run All\"\n",
        "# You can also write temporary files to /kaggle/temp/, but they won't be saved outside of the current session"
      ],
      "metadata": {
        "_uuid": "8f2839f25d086af736a60e9eeb907d3b93b6e0e5",
        "_cell_guid": "b1076dfc-b9ad-4769-8c92-a6c4dae69d19",
        "execution": {
          "iopub.status.busy": "2024-04-22T19:58:40.438304Z",
          "iopub.execute_input": "2024-04-22T19:58:40.439434Z",
          "iopub.status.idle": "2024-04-22T19:58:40.451659Z",
          "shell.execute_reply.started": "2024-04-22T19:58:40.439382Z",
          "shell.execute_reply": "2024-04-22T19:58:40.449954Z"
        },
        "trusted": true,
        "id": "4WVqZ0oNw312",
        "outputId": "9b7cdf3b-9d89-448e-c5fc-6a73d4c186bb"
      },
      "execution_count": null,
      "outputs": [
        {
          "name": "stdout",
          "text": "/kaggle/input/sampled-suicide-detection/Sampled_Suicide_Detection.csv\n",
          "output_type": "stream"
        }
      ]
    },
    {
      "cell_type": "markdown",
      "source": [
        "Random Sampling"
      ],
      "metadata": {
        "id": "r4Y2_qGs23Fv"
      }
    },
    {
      "cell_type": "code",
      "source": [
        "from google.colab import drive\n",
        "import pandas as pd\n",
        "from google.colab import files\n",
        "\n",
        "drive.mount('/content/drive')\n",
        "\n",
        "file_path = '/content/drive/My Drive/suicide/Suicide_Detection.csv'\n",
        "data = pd.read_csv(file_path)\n",
        "\n",
        "sampled_data = data.sample(n=5000, random_state=1)\n",
        "sampled_path = '/content/drive/My Drive/suicide/Sampled_Suicide_Detection.csv'\n",
        "\n",
        "sampled_data.to_csv(sampled_path, index=False)\n",
        "files.download(sampled_path)"
      ],
      "metadata": {
        "id": "o_oaDXF72u9Q"
      },
      "execution_count": null,
      "outputs": []
    },
    {
      "cell_type": "code",
      "source": [
        "\n",
        "# Suppressing warnings\n",
        "import warnings\n",
        "warnings.filterwarnings('ignore')\n",
        "\n",
        "# Text processing\n",
        "import string\n",
        "\n",
        "# Natural Language Toolkit\n",
        "import nltk\n",
        "from nltk.stem import PorterStemmer\n",
        "\n",
        "# Operating System related functions\n",
        "import os\n",
        "# Data manipulation\n",
        "import numpy as np\n",
        "\n",
        "import pandas as pd\n",
        "\n",
        "import csv\n",
        "# Data visualization\n",
        "import matplotlib.pyplot as plt\n",
        "import seaborn as sns\n",
        "\n",
        "# Serialization (saving and loading models)\n",
        "import pickle\n",
        "from sklearn.svm import SVC\n",
        "# Machine learning tools\n",
        "from sklearn.model_selection import (\n",
        "    train_test_split, GridSearchCV, RandomizedSearchCV\n",
        ")\n",
        "from sklearn.feature_extraction.text import TfidfVectorizer\n",
        "from sklearn.feature_selection import SelectKBest, chi2, f_classif\n",
        "from sklearn.ensemble import (\n",
        "    RandomForestClassifier, VotingClassifier,\n",
        "    AdaBoostClassifier, GradientBoostingClassifier, BaggingClassifier\n",
        ")\n",
        "from sklearn.metrics import classification_report, confusion_matrix\n",
        "from sklearn.tree import DecisionTreeClassifier\n",
        "from xgboost import XGBClassifier\n",
        "from sklearn.neighbors import KNeighborsClassifier\n",
        "from sklearn.naive_bayes import GaussianNB, MultinomialNB, BernoulliNB\n",
        "from sklearn.metrics import accuracy_score, confusion_matrix, classification_report, f1_score"
      ],
      "metadata": {
        "execution": {
          "iopub.status.busy": "2024-04-22T19:58:40.478988Z",
          "iopub.execute_input": "2024-04-22T19:58:40.479406Z",
          "iopub.status.idle": "2024-04-22T19:58:40.488356Z",
          "shell.execute_reply.started": "2024-04-22T19:58:40.479377Z",
          "shell.execute_reply": "2024-04-22T19:58:40.487408Z"
        },
        "trusted": true,
        "id": "CZYuCCTZw315"
      },
      "execution_count": null,
      "outputs": []
    },
    {
      "cell_type": "code",
      "source": [
        "data = pd.read_csv('/kaggle/input/sampled-suicide-detection/Sampled_Suicide_Detection.csv')\n",
        "\n",
        "data.head()"
      ],
      "metadata": {
        "execution": {
          "iopub.status.busy": "2024-04-22T19:58:40.521897Z",
          "iopub.execute_input": "2024-04-22T19:58:40.522915Z",
          "iopub.status.idle": "2024-04-22T19:58:40.605301Z",
          "shell.execute_reply.started": "2024-04-22T19:58:40.522863Z",
          "shell.execute_reply": "2024-04-22T19:58:40.603257Z"
        },
        "trusted": true,
        "id": "QdtM0-_Kw315",
        "outputId": "84923dfe-befa-467e-ca72-b296ce683922"
      },
      "execution_count": null,
      "outputs": [
        {
          "execution_count": 6,
          "output_type": "execute_result",
          "data": {
            "text/plain": "   Unnamed: 0                                               text        class\n0      119662  I want to go to sleep and never wake upMy reas...      suicide\n1      275680  YO, IVE DONE SOMETHING ive started my own webt...  non-suicide\n2      339428  the sun is setting and it's raining i'm curren...  non-suicide\n3      152176      Hi. Im scared. Plz talk to me.Private message      suicide\n4       39600  Feeling of hope/worthlessnessThis is a stupid ...      suicide",
            "text/html": "<div>\n<style scoped>\n    .dataframe tbody tr th:only-of-type {\n        vertical-align: middle;\n    }\n\n    .dataframe tbody tr th {\n        vertical-align: top;\n    }\n\n    .dataframe thead th {\n        text-align: right;\n    }\n</style>\n<table border=\"1\" class=\"dataframe\">\n  <thead>\n    <tr style=\"text-align: right;\">\n      <th></th>\n      <th>Unnamed: 0</th>\n      <th>text</th>\n      <th>class</th>\n    </tr>\n  </thead>\n  <tbody>\n    <tr>\n      <th>0</th>\n      <td>119662</td>\n      <td>I want to go to sleep and never wake upMy reas...</td>\n      <td>suicide</td>\n    </tr>\n    <tr>\n      <th>1</th>\n      <td>275680</td>\n      <td>YO, IVE DONE SOMETHING ive started my own webt...</td>\n      <td>non-suicide</td>\n    </tr>\n    <tr>\n      <th>2</th>\n      <td>339428</td>\n      <td>the sun is setting and it's raining i'm curren...</td>\n      <td>non-suicide</td>\n    </tr>\n    <tr>\n      <th>3</th>\n      <td>152176</td>\n      <td>Hi. Im scared. Plz talk to me.Private message</td>\n      <td>suicide</td>\n    </tr>\n    <tr>\n      <th>4</th>\n      <td>39600</td>\n      <td>Feeling of hope/worthlessnessThis is a stupid ...</td>\n      <td>suicide</td>\n    </tr>\n  </tbody>\n</table>\n</div>"
          },
          "metadata": {}
        }
      ]
    },
    {
      "cell_type": "code",
      "source": [
        "import pandas as pd\n",
        "import seaborn as sns\n",
        "import matplotlib.pyplot as plt\n",
        "\n",
        "data = pd.read_csv('/kaggle/input/sampled-suicide-detection/Sampled_Suicide_Detection.csv')\n",
        "\n",
        "print(data['class'].dtype)\n",
        "\n",
        "data = data.dropna(subset=['class'])\n",
        "data['class'] = data['class'].astype(str)\n",
        "\n",
        "sns.countplot(x=data['class'])\n",
        "plt.show()\n"
      ],
      "metadata": {
        "execution": {
          "iopub.status.busy": "2024-04-22T19:58:40.607629Z",
          "iopub.execute_input": "2024-04-22T19:58:40.610438Z",
          "iopub.status.idle": "2024-04-22T19:58:40.958174Z",
          "shell.execute_reply.started": "2024-04-22T19:58:40.610387Z",
          "shell.execute_reply": "2024-04-22T19:58:40.955764Z"
        },
        "trusted": true,
        "id": "Hbmdb9pEw316",
        "outputId": "db31a92e-92a0-43f5-9186-9ddb3e56727d"
      },
      "execution_count": null,
      "outputs": [
        {
          "name": "stdout",
          "text": "object\n",
          "output_type": "stream"
        },
        {
          "output_type": "display_data",
          "data": {
            "text/plain": "<Figure size 640x480 with 1 Axes>",
            "image/png": "[encoded data removed]"
          },
          "metadata": {}
        }
      ]
    },
    {
      "cell_type": "markdown",
      "source": [
        "Data Preprocessing"
      ],
      "metadata": {
        "id": "yRnzjX4gw316"
      }
    },
    {
      "cell_type": "code",
      "source": [
        "data['Length'] = data['text'].apply(lambda x: len(x.split(' ')))\n",
        "data['Length'].describe()"
      ],
      "metadata": {
        "execution": {
          "iopub.status.busy": "2024-04-22T19:58:40.959822Z",
          "iopub.execute_input": "2024-04-22T19:58:40.960218Z",
          "iopub.status.idle": "2024-04-22T19:58:41.021522Z",
          "shell.execute_reply.started": "2024-04-22T19:58:40.960184Z",
          "shell.execute_reply": "2024-04-22T19:58:41.020404Z"
        },
        "trusted": true,
        "id": "9WYatRQKw317",
        "outputId": "2df30490-ee77-425a-c184-6492cb742edf"
      },
      "execution_count": null,
      "outputs": [
        {
          "execution_count": 8,
          "output_type": "execute_result",
          "data": {
            "text/plain": "count    5000.000000\nmean      132.464000\nstd       258.469782\nmin         1.000000\n25%        26.000000\n50%        59.500000\n75%       152.000000\nmax      9684.000000\nName: Length, dtype: float64"
          },
          "metadata": {}
        }
      ]
    },
    {
      "cell_type": "code",
      "source": [
        "data.info()"
      ],
      "metadata": {
        "execution": {
          "iopub.status.busy": "2024-04-22T19:58:41.022778Z",
          "iopub.execute_input": "2024-04-22T19:58:41.023113Z",
          "iopub.status.idle": "2024-04-22T19:58:41.042440Z",
          "shell.execute_reply.started": "2024-04-22T19:58:41.023085Z",
          "shell.execute_reply": "2024-04-22T19:58:41.041458Z"
        },
        "trusted": true,
        "id": "K5kdRvzrw318",
        "outputId": "3ccfed34-ca08-41f1-e879-d033fafd1652"
      },
      "execution_count": null,
      "outputs": [
        {
          "name": "stdout",
          "text": "<class 'pandas.core.frame.DataFrame'>\nRangeIndex: 5000 entries, 0 to 4999\nData columns (total 4 columns):\n #   Column      Non-Null Count  Dtype \n---  ------      --------------  ----- \n 0   Unnamed: 0  5000 non-null   int64 \n 1   text        5000 non-null   object\n 2   class       5000 non-null   object\n 3   Length      5000 non-null   int64 \ndtypes: int64(2), object(2)\nmemory usage: 156.4+ KB\n",
          "output_type": "stream"
        }
      ]
    },
    {
      "cell_type": "code",
      "source": [
        "data['Unnamed: 0'].is_unique"
      ],
      "metadata": {
        "execution": {
          "iopub.status.busy": "2024-04-22T19:58:41.046091Z",
          "iopub.execute_input": "2024-04-22T19:58:41.046534Z",
          "iopub.status.idle": "2024-04-22T19:58:41.060720Z",
          "shell.execute_reply.started": "2024-04-22T19:58:41.046498Z",
          "shell.execute_reply": "2024-04-22T19:58:41.058536Z"
        },
        "trusted": true,
        "id": "mi9emjHAw318",
        "outputId": "42e5317f-9e7a-48eb-d12b-fd7ae3857302"
      },
      "execution_count": null,
      "outputs": [
        {
          "execution_count": 10,
          "output_type": "execute_result",
          "data": {
            "text/plain": "True"
          },
          "metadata": {}
        }
      ]
    },
    {
      "cell_type": "code",
      "source": [
        "data.isnull().sum()\n",
        "data.duplicated().sum()"
      ],
      "metadata": {
        "execution": {
          "iopub.status.busy": "2024-04-22T19:58:41.062939Z",
          "iopub.execute_input": "2024-04-22T19:58:41.063370Z",
          "iopub.status.idle": "2024-04-22T19:58:41.092418Z",
          "shell.execute_reply.started": "2024-04-22T19:58:41.063336Z",
          "shell.execute_reply": "2024-04-22T19:58:41.091465Z"
        },
        "trusted": true,
        "id": "dklff7vEw319",
        "outputId": "a311b2d0-26a9-4200-9c97-cfbea24513a0"
      },
      "execution_count": null,
      "outputs": [
        {
          "execution_count": 11,
          "output_type": "execute_result",
          "data": {
            "text/plain": "0"
          },
          "metadata": {}
        }
      ]
    },
    {
      "cell_type": "code",
      "source": [
        "data['text']= data['text'].str.lower()\n",
        "data['text'] = data['text'].str.replace(r'[^\\w\\s]+', '',regex = True)"
      ],
      "metadata": {
        "execution": {
          "iopub.status.busy": "2024-04-22T19:58:41.093560Z",
          "iopub.execute_input": "2024-04-22T19:58:41.094667Z",
          "iopub.status.idle": "2024-04-22T19:58:41.267050Z",
          "shell.execute_reply.started": "2024-04-22T19:58:41.094633Z",
          "shell.execute_reply": "2024-04-22T19:58:41.265729Z"
        },
        "trusted": true,
        "id": "0_Db-wXNw319"
      },
      "execution_count": null,
      "outputs": []
    },
    {
      "cell_type": "code",
      "source": [
        "#stop word removal\n",
        "from nltk.corpus import stopwords\n",
        "stop_words = stopwords.words('english')\n",
        "data['text'] = data['text'].apply(lambda x: ' '.join([word for word in x.split() if word not in (stop_words)]))"
      ],
      "metadata": {
        "execution": {
          "iopub.status.busy": "2024-04-22T19:58:41.268427Z",
          "iopub.execute_input": "2024-04-22T19:58:41.269431Z",
          "iopub.status.idle": "2024-04-22T19:58:42.456139Z",
          "shell.execute_reply.started": "2024-04-22T19:58:41.269392Z",
          "shell.execute_reply": "2024-04-22T19:58:42.454268Z"
        },
        "trusted": true,
        "id": "HfPURfnww319"
      },
      "execution_count": null,
      "outputs": []
    },
    {
      "cell_type": "code",
      "source": [
        "#tokenization\n",
        "data['text'] = data['text'].apply(lambda x:nltk.word_tokenize(x))"
      ],
      "metadata": {
        "execution": {
          "iopub.status.busy": "2024-04-22T19:58:42.457921Z",
          "iopub.execute_input": "2024-04-22T19:58:42.458310Z",
          "iopub.status.idle": "2024-04-22T19:58:45.442272Z",
          "shell.execute_reply.started": "2024-04-22T19:58:42.458281Z",
          "shell.execute_reply": "2024-04-22T19:58:45.440898Z"
        },
        "trusted": true,
        "id": "suQewhkqw31-"
      },
      "execution_count": null,
      "outputs": []
    },
    {
      "cell_type": "code",
      "source": [
        "#steming\n",
        "ps = PorterStemmer()\n",
        "data['text'] = data['text'].apply(lambda x : [ps.stem(i) for i in x])"
      ],
      "metadata": {
        "execution": {
          "iopub.status.busy": "2024-04-22T19:58:45.446835Z",
          "iopub.execute_input": "2024-04-22T19:58:45.447258Z",
          "iopub.status.idle": "2024-04-22T19:58:54.009906Z",
          "shell.execute_reply.started": "2024-04-22T19:58:45.447222Z",
          "shell.execute_reply": "2024-04-22T19:58:54.008774Z"
        },
        "trusted": true,
        "id": "Y5A-yMIiw31-"
      },
      "execution_count": null,
      "outputs": []
    },
    {
      "cell_type": "code",
      "source": [
        "data['text']=data['text'].apply(lambda x : ' '.join(x))\n",
        "data.head()"
      ],
      "metadata": {
        "execution": {
          "iopub.status.busy": "2024-04-22T19:58:54.013019Z",
          "iopub.execute_input": "2024-04-22T19:58:54.014283Z",
          "iopub.status.idle": "2024-04-22T19:58:54.054242Z",
          "shell.execute_reply.started": "2024-04-22T19:58:54.014231Z",
          "shell.execute_reply": "2024-04-22T19:58:54.052806Z"
        },
        "trusted": true,
        "id": "g50hiwCGw31-",
        "outputId": "ae73b15a-a5bf-401c-cbff-06b5b64aa288"
      },
      "execution_count": null,
      "outputs": [
        {
          "execution_count": 16,
          "output_type": "execute_result",
          "data": {
            "text/plain": "   Unnamed: 0                                               text        class  \\\n0      119662  want go sleep never wake upmi reason might mak...      suicide   \n1      275680  yo ive done someth ive start webtoon httpswwww...  non-suicide   \n2      339428  sun set rain im current listen sad pov song yo...  non-suicide   \n3      152176                 hi im scare plz talk mepriv messag      suicide   \n4       39600  feel hopeworthlessnessthi stupid reason feel w...      suicide   \n\n   Length  \n0      96  \n1      38  \n2      24  \n3       8  \n4     253  ",
            "text/html": "<div>\n<style scoped>\n    .dataframe tbody tr th:only-of-type {\n        vertical-align: middle;\n    }\n\n    .dataframe tbody tr th {\n        vertical-align: top;\n    }\n\n    .dataframe thead th {\n        text-align: right;\n    }\n</style>\n<table border=\"1\" class=\"dataframe\">\n  <thead>\n    <tr style=\"text-align: right;\">\n      <th></th>\n      <th>Unnamed: 0</th>\n      <th>text</th>\n      <th>class</th>\n      <th>Length</th>\n    </tr>\n  </thead>\n  <tbody>\n    <tr>\n      <th>0</th>\n      <td>119662</td>\n      <td>want go sleep never wake upmi reason might mak...</td>\n      <td>suicide</td>\n      <td>96</td>\n    </tr>\n    <tr>\n      <th>1</th>\n      <td>275680</td>\n      <td>yo ive done someth ive start webtoon httpswwww...</td>\n      <td>non-suicide</td>\n      <td>38</td>\n    </tr>\n    <tr>\n      <th>2</th>\n      <td>339428</td>\n      <td>sun set rain im current listen sad pov song yo...</td>\n      <td>non-suicide</td>\n      <td>24</td>\n    </tr>\n    <tr>\n      <th>3</th>\n      <td>152176</td>\n      <td>hi im scare plz talk mepriv messag</td>\n      <td>suicide</td>\n      <td>8</td>\n    </tr>\n    <tr>\n      <th>4</th>\n      <td>39600</td>\n      <td>feel hopeworthlessnessthi stupid reason feel w...</td>\n      <td>suicide</td>\n      <td>253</td>\n    </tr>\n  </tbody>\n</table>\n</div>"
          },
          "metadata": {}
        }
      ]
    },
    {
      "cell_type": "markdown",
      "source": [
        "Machine Learning"
      ],
      "metadata": {
        "id": "jCVXrwuew31-"
      }
    },
    {
      "cell_type": "code",
      "source": [
        "x,y = data['text'],data['class']"
      ],
      "metadata": {
        "execution": {
          "iopub.status.busy": "2024-04-22T19:58:54.055739Z",
          "iopub.execute_input": "2024-04-22T19:58:54.056229Z",
          "iopub.status.idle": "2024-04-22T19:58:54.065357Z",
          "shell.execute_reply.started": "2024-04-22T19:58:54.056193Z",
          "shell.execute_reply": "2024-04-22T19:58:54.063993Z"
        },
        "trusted": true,
        "id": "zVov3c5kw31-"
      },
      "execution_count": null,
      "outputs": []
    },
    {
      "cell_type": "markdown",
      "source": [
        "TF-IDF Vectorizer"
      ],
      "metadata": {
        "id": "PO5GfNvew31_"
      }
    },
    {
      "cell_type": "code",
      "source": [
        "vectorizer = TfidfVectorizer(min_df=50,max_features=5000)\n",
        "x =  vectorizer.fit_transform(x).toarray()"
      ],
      "metadata": {
        "execution": {
          "iopub.status.busy": "2024-04-22T19:58:54.067181Z",
          "iopub.execute_input": "2024-04-22T19:58:54.068384Z",
          "iopub.status.idle": "2024-04-22T19:58:54.495377Z",
          "shell.execute_reply.started": "2024-04-22T19:58:54.068341Z",
          "shell.execute_reply": "2024-04-22T19:58:54.493954Z"
        },
        "trusted": true,
        "id": "hWgQ6TG0w31_"
      },
      "execution_count": null,
      "outputs": []
    },
    {
      "cell_type": "code",
      "source": [
        "with open('tfidf.pkl', 'wb') as f:\n",
        "    pickle.dump(vectorizer, f)"
      ],
      "metadata": {
        "execution": {
          "iopub.status.busy": "2024-04-22T19:58:54.499283Z",
          "iopub.execute_input": "2024-04-22T19:58:54.500009Z",
          "iopub.status.idle": "2024-04-22T19:58:54.513577Z",
          "shell.execute_reply.started": "2024-04-22T19:58:54.499966Z",
          "shell.execute_reply": "2024-04-22T19:58:54.511443Z"
        },
        "trusted": true,
        "id": "kOCNK1L-w31_"
      },
      "execution_count": null,
      "outputs": []
    },
    {
      "cell_type": "code",
      "source": [
        "X_train,X_test,y_train,y_test = train_test_split(x,y,test_size=0.20,random_state=5)"
      ],
      "metadata": {
        "execution": {
          "iopub.status.busy": "2024-04-22T19:58:54.515778Z",
          "iopub.execute_input": "2024-04-22T19:58:54.516364Z",
          "iopub.status.idle": "2024-04-22T19:58:54.573703Z",
          "shell.execute_reply.started": "2024-04-22T19:58:54.516254Z",
          "shell.execute_reply": "2024-04-22T19:58:54.572454Z"
        },
        "trusted": true,
        "id": "Wr1EgToMw31_"
      },
      "execution_count": null,
      "outputs": []
    },
    {
      "cell_type": "code",
      "source": [
        "X_train.shape,X_test.shape"
      ],
      "metadata": {
        "execution": {
          "iopub.status.busy": "2024-04-22T19:58:54.575429Z",
          "iopub.execute_input": "2024-04-22T19:58:54.576216Z",
          "iopub.status.idle": "2024-04-22T19:58:54.584608Z",
          "shell.execute_reply.started": "2024-04-22T19:58:54.576168Z",
          "shell.execute_reply": "2024-04-22T19:58:54.583387Z"
        },
        "trusted": true,
        "id": "sl1AbEWzw31_",
        "outputId": "01714800-1c7d-4a3e-d61f-3a750c85f20b"
      },
      "execution_count": null,
      "outputs": [
        {
          "execution_count": 21,
          "output_type": "execute_result",
          "data": {
            "text/plain": "((4000, 840), (1000, 840))"
          },
          "metadata": {}
        }
      ]
    },
    {
      "cell_type": "markdown",
      "source": [
        "Naive bayes classifier"
      ],
      "metadata": {
        "id": "12DKhajfw31_"
      }
    },
    {
      "cell_type": "code",
      "source": [
        "nb = GaussianNB()\n",
        "nb2 = BernoulliNB()\n",
        "nb3 = MultinomialNB()\n",
        "\n",
        "VotingClassifiers = VotingClassifier(estimators=[('GaussianNB', nb),('BernoulliNB',nb2), ('MultinomialNB', nb3)], voting = 'hard')\n",
        "VotingClassifiers.fit(X_train, y_train)\n",
        "print('Training score:',VotingClassifiers.score(X_train, y_train))\n",
        "print('Testing score:',VotingClassifiers.score(X_test,y_test))\n",
        "#"
      ],
      "metadata": {
        "execution": {
          "iopub.status.busy": "2024-04-22T19:58:54.586498Z",
          "iopub.execute_input": "2024-04-22T19:58:54.586981Z",
          "iopub.status.idle": "2024-04-22T19:58:55.001895Z",
          "shell.execute_reply.started": "2024-04-22T19:58:54.586938Z",
          "shell.execute_reply": "2024-04-22T19:58:55.000696Z"
        },
        "trusted": true,
        "id": "SnOnxpvIw32A",
        "outputId": "9992c77e-7c7b-4989-eb63-8e8baf27e22b"
      },
      "execution_count": null,
      "outputs": [
        {
          "name": "stdout",
          "text": "Training score: 0.8955\nTesting score: 0.866\n",
          "output_type": "stream"
        }
      ]
    },
    {
      "cell_type": "code",
      "source": [
        "y_act=y_test\n",
        "y_pred=VotingClassifiers.predict(X_test)\n",
        "sns.heatmap(confusion_matrix(y_act,y_pred),annot=True,cmap='summer')\n",
        "print(classification_report(y_act,y_pred))\n",
        "f1_n = f1_score(y_test, y_pred, average=\"weighted\")\n",
        "print(\"F1 Score:\", f1_n)"
      ],
      "metadata": {
        "execution": {
          "iopub.status.busy": "2024-04-22T19:59:30.185493Z",
          "iopub.execute_input": "2024-04-22T19:59:30.185988Z",
          "iopub.status.idle": "2024-04-22T19:59:30.617333Z",
          "shell.execute_reply.started": "2024-04-22T19:59:30.185952Z",
          "shell.execute_reply": "2024-04-22T19:59:30.615948Z"
        },
        "trusted": true,
        "id": "0EYVbWKWw32A",
        "outputId": "3f7d1d51-eacc-4439-847f-0cc335b3d2c7"
      },
      "execution_count": null,
      "outputs": [
        {
          "name": "stdout",
          "text": "              precision    recall  f1-score   support\n\n non-suicide       0.88      0.86      0.87       511\n     suicide       0.86      0.87      0.86       489\n\n    accuracy                           0.87      1000\n   macro avg       0.87      0.87      0.87      1000\nweighted avg       0.87      0.87      0.87      1000\n\nF1 Score: 0.8660160823158535\n",
          "output_type": "stream"
        },
        {
          "output_type": "display_data",
          "data": {
            "text/plain": "<Figure size 640x480 with 2 Axes>",
            "image/png": "[encoded data removed]"
          },
          "metadata": {}
        }
      ]
    },
    {
      "cell_type": "markdown",
      "source": [
        "Random Forest"
      ],
      "metadata": {
        "id": "1mydCCWpw32A"
      }
    },
    {
      "cell_type": "code",
      "source": [
        "classifiers = RandomizedSearchCV(RandomForestClassifier(),{'n_estimators':[4,5],'criterion':['entropy'],\n",
        "                                                      'max_depth':range(1,4),'min_samples_split':range(2,5)},random_state=12)\n",
        "classifiers.fit(X_train, y_train)\n",
        "\n",
        "print('Training score:',classifiers.score(X_train, y_train))\n",
        "\n",
        "print('Testing score:',classifiers.score(X_test,y_test))\n",
        "print(classifiers.best_estimator_)"
      ],
      "metadata": {
        "execution": {
          "iopub.status.busy": "2024-04-22T20:00:20.147248Z",
          "iopub.execute_input": "2024-04-22T20:00:20.147696Z",
          "iopub.status.idle": "2024-04-22T20:00:22.413950Z",
          "shell.execute_reply.started": "2024-04-22T20:00:20.147663Z",
          "shell.execute_reply": "2024-04-22T20:00:22.412697Z"
        },
        "trusted": true,
        "id": "lJ7iExNPw32A",
        "outputId": "bbdea5f5-75dc-4e3e-f0e3-797c4a09be4c"
      },
      "execution_count": null,
      "outputs": [
        {
          "name": "stdout",
          "text": "Training score: 0.803\nTesting score: 0.799\nRandomForestClassifier(criterion='entropy', max_depth=3, min_samples_split=4,\n                       n_estimators=5)\n",
          "output_type": "stream"
        }
      ]
    },
    {
      "cell_type": "code",
      "source": [
        "y_act=y_test\n",
        "y_pred=classifiers.predict(X_test)\n",
        "sns.heatmap(confusion_matrix(y_act,y_pred),annot=True,cmap='Spectral')\n",
        "print(classification_report(y_act,y_pred))\n",
        "f1_rn = f1_score(y_test, y_pred, average=\"weighted\")"
      ],
      "metadata": {
        "execution": {
          "iopub.status.busy": "2024-04-22T20:00:36.376366Z",
          "iopub.execute_input": "2024-04-22T20:00:36.376829Z",
          "iopub.status.idle": "2024-04-22T20:00:36.757825Z",
          "shell.execute_reply.started": "2024-04-22T20:00:36.376791Z",
          "shell.execute_reply": "2024-04-22T20:00:36.756571Z"
        },
        "trusted": true,
        "id": "aCYjUY2cw32B",
        "outputId": "6d325949-79bb-4c5f-e0e3-c2fef7f01d6d"
      },
      "execution_count": null,
      "outputs": [
        {
          "name": "stdout",
          "text": "              precision    recall  f1-score   support\n\n non-suicide       0.75      0.90      0.82       511\n     suicide       0.87      0.69      0.77       489\n\n    accuracy                           0.80      1000\n   macro avg       0.81      0.80      0.80      1000\nweighted avg       0.81      0.80      0.80      1000\n\n",
          "output_type": "stream"
        },
        {
          "output_type": "display_data",
          "data": {
            "text/plain": "<Figure size 640x480 with 2 Axes>",
            "image/png": "[encoded data removed]"
          },
          "metadata": {}
        }
      ]
    },
    {
      "cell_type": "markdown",
      "source": [
        "Decision Tree"
      ],
      "metadata": {
        "id": "Y6x1Y5T4w32B"
      }
    },
    {
      "cell_type": "code",
      "source": [
        "model2 = DecisionTreeClassifier(criterion='gini',splitter='random',min_samples_leaf=70,max_depth=4,random_state=0)\n",
        "model2.fit(X_train, y_train)\n",
        "\n",
        "print(\"Training Accuracy: \", model2.score(X_train, y_train))\n",
        "print(\"Test Accuracy: \", model2.score(X_test,y_test))\n",
        "print\n"
      ],
      "metadata": {
        "execution": {
          "iopub.status.busy": "2024-04-22T20:01:09.354155Z",
          "iopub.execute_input": "2024-04-22T20:01:09.354608Z",
          "iopub.status.idle": "2024-04-22T20:01:09.488891Z",
          "shell.execute_reply.started": "2024-04-22T20:01:09.354571Z",
          "shell.execute_reply": "2024-04-22T20:01:09.487613Z"
        },
        "trusted": true,
        "id": "sUnAi-ifw32B",
        "outputId": "25672a31-2938-4e6e-80e6-fcf96eaa7e6e"
      },
      "execution_count": null,
      "outputs": [
        {
          "name": "stdout",
          "text": "Training Accuracy:  0.73675\nTest Accuracy:  0.726\n",
          "output_type": "stream"
        },
        {
          "execution_count": 26,
          "output_type": "execute_result",
          "data": {
            "text/plain": "<function print>"
          },
          "metadata": {}
        }
      ]
    },
    {
      "cell_type": "code",
      "source": [
        "y_act=y_test\n",
        "y_pred=model2.predict(X_test)\n",
        "sns.heatmap(confusion_matrix(y_act,y_pred),annot=True,cmap='PiYG')\n",
        "print(classification_report(y_act,y_pred))\n",
        "f1_dt = f1_score(y_test, y_pred, average=\"weighted\")\n",
        "print(f1_dt)"
      ],
      "metadata": {
        "execution": {
          "iopub.status.busy": "2024-04-22T20:01:25.169162Z",
          "iopub.execute_input": "2024-04-22T20:01:25.169911Z",
          "iopub.status.idle": "2024-04-22T20:01:25.514121Z",
          "shell.execute_reply.started": "2024-04-22T20:01:25.169796Z",
          "shell.execute_reply": "2024-04-22T20:01:25.512621Z"
        },
        "trusted": true,
        "id": "GjhAPMq6w32B",
        "outputId": "4df5bda6-e90b-4e58-d2aa-929734d37591"
      },
      "execution_count": null,
      "outputs": [
        {
          "name": "stdout",
          "text": "              precision    recall  f1-score   support\n\n non-suicide       0.75      0.70      0.72       511\n     suicide       0.71      0.75      0.73       489\n\n    accuracy                           0.73      1000\n   macro avg       0.73      0.73      0.73      1000\nweighted avg       0.73      0.73      0.73      1000\n\n0.7258881918996335\n",
          "output_type": "stream"
        },
        {
          "output_type": "display_data",
          "data": {
            "text/plain": "<Figure size 640x480 with 2 Axes>",
            "image/png": "[encoded data removed]"
          },
          "metadata": {}
        }
      ]
    },
    {
      "cell_type": "markdown",
      "source": [
        "SVM"
      ],
      "metadata": {
        "id": "Hnj1x_l9w32B"
      }
    },
    {
      "cell_type": "code",
      "source": [
        "svm_classifier = SVC(kernel=\"sigmoid\",random_state=10)\n",
        "svm_classifier.fit(X_train, y_train)\n",
        "\n",
        "print('\\nSVM Training score:', svm_classifier.score(X_train, y_train))\n",
        "print('SVM Testing score:', svm_classifier.score(X_test, y_test))\n",
        "\n",
        "\n",
        "y_act_svm = y_test\n",
        "y_pred_svm = svm_classifier.predict(X_test)\n",
        "sns.heatmap(confusion_matrix(y_act_svm, y_pred_svm), annot=True, cmap='Spectral')\n",
        "print('\\nSVM Classification Report:')\n",
        "print(classification_report(y_act_svm, y_pred_svm))\n",
        "f1_svm = f1_score(y_test, y_pred_svm, average=\"weighted\")"
      ],
      "metadata": {
        "execution": {
          "iopub.status.busy": "2024-04-22T20:02:01.193041Z",
          "iopub.execute_input": "2024-04-22T20:02:01.193516Z",
          "iopub.status.idle": "2024-04-22T20:02:07.785809Z",
          "shell.execute_reply.started": "2024-04-22T20:02:01.193482Z",
          "shell.execute_reply": "2024-04-22T20:02:07.784919Z"
        },
        "trusted": true,
        "id": "RYrX3MjMw32C",
        "outputId": "3165e326-a6c6-4ae4-e6a5-3590c411b9a7"
      },
      "execution_count": null,
      "outputs": [
        {
          "name": "stdout",
          "text": "\nSVM Training score: 0.90975\nSVM Testing score: 0.884\n\nSVM Classification Report:\n              precision    recall  f1-score   support\n\n non-suicide       0.87      0.90      0.89       511\n     suicide       0.90      0.86      0.88       489\n\n    accuracy                           0.88      1000\n   macro avg       0.88      0.88      0.88      1000\nweighted avg       0.88      0.88      0.88      1000\n\n",
          "output_type": "stream"
        },
        {
          "output_type": "display_data",
          "data": {
            "text/plain": "<Figure size 640x480 with 2 Axes>",
            "image/png": "[encoded data removed]"
          },
          "metadata": {}
        }
      ]
    },
    {
      "cell_type": "markdown",
      "source": [
        "Gradient Boosting"
      ],
      "metadata": {
        "id": "tOQSJqPEw32C"
      }
    },
    {
      "cell_type": "code",
      "source": [
        "model3 = RandomizedSearchCV(GradientBoostingClassifier(),{\"learning_rate\": range(3,5),\n",
        "                \"max_depth\":[200],\"max_features\":range(6,10,2),\n",
        "                 \"n_estimators\":[10]},random_state=8,n_jobs=-1)\n",
        "model3.fit(X_train,y_train)\n",
        "print('Training score:',model3.score(X_train,y_train))\n",
        "print('Testing score:',model3.score(X_test,y_test))\n"
      ],
      "metadata": {
        "execution": {
          "iopub.status.busy": "2024-04-22T20:02:30.950337Z",
          "iopub.execute_input": "2024-04-22T20:02:30.951159Z",
          "iopub.status.idle": "2024-04-22T20:02:37.727550Z",
          "shell.execute_reply.started": "2024-04-22T20:02:30.951114Z",
          "shell.execute_reply": "2024-04-22T20:02:37.726361Z"
        },
        "trusted": true,
        "id": "99sO_DGlw32C",
        "outputId": "1d3c9ded-8238-427d-ad21-6debf6b5939d"
      },
      "execution_count": null,
      "outputs": [
        {
          "name": "stdout",
          "text": "Training score: 0.99575\nTesting score: 0.804\n",
          "output_type": "stream"
        }
      ]
    },
    {
      "cell_type": "code",
      "source": [
        "y_act=y_test\n",
        "y_pred=model3.predict(X_test)\n",
        "sns.heatmap(confusion_matrix(y_act,y_pred),annot=True,cmap='PRGn')\n",
        "print(classification_report(y_act,y_pred))\n",
        "\n",
        "f1_gd = f1_score(y_test, y_pred, average=\"weighted\")\n",
        "print(f1_gd)"
      ],
      "metadata": {
        "execution": {
          "iopub.status.busy": "2024-04-22T20:02:49.087203Z",
          "iopub.execute_input": "2024-04-22T20:02:49.088089Z",
          "iopub.status.idle": "2024-04-22T20:02:49.456399Z",
          "shell.execute_reply.started": "2024-04-22T20:02:49.088041Z",
          "shell.execute_reply": "2024-04-22T20:02:49.455276Z"
        },
        "trusted": true,
        "id": "8VMfppU5w32C",
        "outputId": "1f1d234d-4fcf-4733-a7b3-50d51ce51daf"
      },
      "execution_count": null,
      "outputs": [
        {
          "name": "stdout",
          "text": "              precision    recall  f1-score   support\n\n non-suicide       0.80      0.82      0.81       511\n     suicide       0.81      0.79      0.80       489\n\n    accuracy                           0.80      1000\n   macro avg       0.80      0.80      0.80      1000\nweighted avg       0.80      0.80      0.80      1000\n\n0.8039010878098014\n",
          "output_type": "stream"
        },
        {
          "output_type": "display_data",
          "data": {
            "text/plain": "<Figure size 640x480 with 2 Axes>",
            "image/png": "[encoded data removed]"
          },
          "metadata": {}
        }
      ]
    },
    {
      "cell_type": "markdown",
      "source": [
        "k-nearest neighbors"
      ],
      "metadata": {
        "id": "c4G3CXEGw32C"
      }
    },
    {
      "cell_type": "code",
      "source": [
        "model = RandomizedSearchCV(KNeighborsClassifier(),{'n_neighbors':[7],'metric':['manhattan','minkowski','cosine','tanimoto'],\n",
        "                                                   'p':[1,2]},random_state=40,n_jobs=-1)\n",
        "model.fit(X_train, y_train)\n",
        "\n",
        "print('Training score:',model.score(X_train, y_train))\n",
        "\n",
        "print('Testing score:',model.score(X_test,y_test))\n",
        "print(model.best_estimator_)\n"
      ],
      "metadata": {
        "execution": {
          "iopub.status.busy": "2024-04-22T20:03:11.638010Z",
          "iopub.execute_input": "2024-04-22T20:03:11.638446Z",
          "iopub.status.idle": "2024-04-22T20:03:34.073453Z",
          "shell.execute_reply.started": "2024-04-22T20:03:11.638414Z",
          "shell.execute_reply": "2024-04-22T20:03:34.072332Z"
        },
        "trusted": true,
        "id": "-Ny9YIGrw32D",
        "outputId": "0ba8f6d9-f9f7-405c-e7b3-9deb17998370"
      },
      "execution_count": null,
      "outputs": [
        {
          "name": "stdout",
          "text": "Training score: 0.88275\nTesting score: 0.846\nKNeighborsClassifier(metric='cosine', n_neighbors=7, p=1)\n",
          "output_type": "stream"
        }
      ]
    },
    {
      "cell_type": "code",
      "source": [
        "y_act = y_test\n",
        "y_pred = model.predict(X_test)\n",
        "sns.heatmap(confusion_matrix(y_act,y_pred),annot=True,cmap='summer')\n",
        "print(classification_report(y_act,y_pred))\n",
        "f1_kn = f1_score(y_test, y_pred, average=\"weighted\")\n",
        "print(f1_kn)"
      ],
      "metadata": {
        "execution": {
          "iopub.status.busy": "2024-04-22T20:03:40.484950Z",
          "iopub.execute_input": "2024-04-22T20:03:40.485405Z",
          "iopub.status.idle": "2024-04-22T20:03:41.109110Z",
          "shell.execute_reply.started": "2024-04-22T20:03:40.485368Z",
          "shell.execute_reply": "2024-04-22T20:03:41.107984Z"
        },
        "trusted": true,
        "id": "MzRnwid0w32D",
        "outputId": "a62a086b-98c0-4bde-a423-7dea9b5d7cbc"
      },
      "execution_count": null,
      "outputs": [
        {
          "name": "stdout",
          "text": "              precision    recall  f1-score   support\n\n non-suicide       0.84      0.86      0.85       511\n     suicide       0.85      0.83      0.84       489\n\n    accuracy                           0.85      1000\n   macro avg       0.85      0.85      0.85      1000\nweighted avg       0.85      0.85      0.85      1000\n\n0.8459506694855531\n",
          "output_type": "stream"
        },
        {
          "output_type": "display_data",
          "data": {
            "text/plain": "<Figure size 640x480 with 2 Axes>",
            "image/png": "[encoded data removed]"
          },
          "metadata": {}
        }
      ]
    },
    {
      "cell_type": "markdown",
      "source": [
        "Report Analysis on Models"
      ],
      "metadata": {
        "id": "SJYuxcrIw32D"
      }
    },
    {
      "cell_type": "code",
      "source": [
        "\n",
        "models = ['Naive \\n Bayes', 'Random \\n Forest', 'Decision \\n Tree', 'Gradient \\n Boosting', 'k-Nearest',\"SVM\"]\n",
        "modelsq = ['Naive Bayes', 'Random Forest', 'Decision  Tree', 'Gradient  Boosting', 'k-Nearest', \"SVM\"]\n",
        "accuracy_scores = [f1_n, f1_rn, f1_dt, f1_gd, f1_kn, f1_svm]\n",
        "colors = ['black', 'lime', 'navy', 'crimson', 'purple', 'red']\n",
        "\n",
        "# Find the index of the max accuracy score\n",
        "max_index = accuracy_scores.index(max(accuracy_scores))\n",
        "min_index = accuracy_scores.index(min(accuracy_scores))\n",
        "\n",
        "# Set a distinct color for the bar with the max value\n",
        "colors[max_index] = 'gold'\n",
        "colors[min_index] = \"navy\"\n",
        "\n",
        "print(\"Maximum performed Model in Gold Colored label is\", modelsq[max_index])\n",
        "print(\"Minimum performed Model in Blue Colored label is\", modelsq[min_index])\n",
        "\n",
        "# Create the bar chart\n",
        "plt.bar(models, accuracy_scores, color=colors)\n",
        "plt.ylim(0, 1)\n",
        "\n",
        "# Annotate the bar with the max value\n",
        "plt.text(max_index, max(accuracy_scores) + 0.02, f'Max: {max(accuracy_scores):.2f}', ha='center', va='bottom', color='green', fontweight='bold')\n",
        "plt.text(min_index, min(accuracy_scores) + 0.02, f'Min: {min(accuracy_scores):.2f}', ha='center', va='bottom', color='red', fontweight='bold')\n",
        "\n",
        "# Set plot labels and title\n",
        "plt.xlabel('Machine Learning Models')\n",
        "plt.ylabel('F1 Score')\n",
        "plt.title('Comparison of F1 Score Accuracy in ML Models')\n",
        "\n",
        "# Show the plot\n",
        "plt.show()\n",
        "plt.gcf().set_size_inches(12, 8)\n"
      ],
      "metadata": {
        "execution": {
          "iopub.status.busy": "2024-04-22T20:04:04.129055Z",
          "iopub.execute_input": "2024-04-22T20:04:04.129528Z",
          "iopub.status.idle": "2024-04-22T20:04:04.417663Z",
          "shell.execute_reply.started": "2024-04-22T20:04:04.129491Z",
          "shell.execute_reply": "2024-04-22T20:04:04.416249Z"
        },
        "trusted": true,
        "id": "AKD57n1sw32J",
        "outputId": "f1eb8f13-e88f-46eb-e331-2fd6a542dc40"
      },
      "execution_count": null,
      "outputs": [
        {
          "name": "stdout",
          "text": "Maximum performed Model in Gold Colored label is SVM\nMinimum performed Model in Blue Colored label is Decision  Tree\n",
          "output_type": "stream"
        },
        {
          "output_type": "display_data",
          "data": {
            "text/plain": "<Figure size 640x480 with 1 Axes>",
            "image/png": "[encoded data removed]"
          },
          "metadata": {}
        },
        {
          "output_type": "display_data",
          "data": {
            "text/plain": "<Figure size 1200x800 with 0 Axes>"
          },
          "metadata": {}
        }
      ]
    },
    {
      "cell_type": "code",
      "source": [
        "print(\"From the above we can say that out of all models perforamce ,\\n Naive Bayes (Voting Classifier) is best fit model for the dataset.\")\n",
        "print('* Training score:',VotingClassifiers.score(X_train, y_train))\n",
        "print('* Testing score:',VotingClassifiers.score(X_test,y_test))"
      ],
      "metadata": {
        "execution": {
          "iopub.status.busy": "2024-04-22T20:04:25.170642Z",
          "iopub.execute_input": "2024-04-22T20:04:25.171119Z",
          "iopub.status.idle": "2024-04-22T20:04:25.373646Z",
          "shell.execute_reply.started": "2024-04-22T20:04:25.171081Z",
          "shell.execute_reply": "2024-04-22T20:04:25.372259Z"
        },
        "trusted": true,
        "id": "iqMz22Gsw32J",
        "outputId": "8ad0fc1f-dd20-4605-d199-0e92630fbbe3"
      },
      "execution_count": null,
      "outputs": [
        {
          "name": "stdout",
          "text": "From the above we can say that out of all models perforamce ,\n Naive Bayes (Voting Classifier) is best fit model for the dataset.\n* Training score: 0.8955\n* Testing score: 0.866\n",
          "output_type": "stream"
        }
      ]
    },
    {
      "cell_type": "code",
      "source": [
        "with open(\"best_model.pkl\", 'wb') as f:\n",
        "    pickle.dump(VotingClassifiers,f)"
      ],
      "metadata": {
        "execution": {
          "iopub.status.busy": "2024-04-22T20:04:40.059631Z",
          "iopub.execute_input": "2024-04-22T20:04:40.060081Z",
          "iopub.status.idle": "2024-04-22T20:04:40.066510Z",
          "shell.execute_reply.started": "2024-04-22T20:04:40.060044Z",
          "shell.execute_reply": "2024-04-22T20:04:40.065184Z"
        },
        "trusted": true,
        "id": "Rl0urKNEw32J"
      },
      "execution_count": null,
      "outputs": []
    },
    {
      "cell_type": "code",
      "source": [
        "def preprocess(inp):\n",
        "    # Convert to lowercase\n",
        "    inp = inp.lower()\n",
        "\n",
        "    # Remove punctuation\n",
        "    inp = inp.replace(r'[^\\w\\s]+', '')\n",
        "\n",
        "    # Tokenize and remove stop words\n",
        "    inp = [word for word in inp.split() if word not in stop_words]\n",
        "\n",
        "    # Stemming\n",
        "    inp = ' '.join([ps.stem(i) for i in inp])\n",
        "\n",
        "    # Transform to vector form\n",
        "    input_to_model = vectorizer.transform([inp]).toarray()\n",
        "\n",
        "    return input_to_model\n"
      ],
      "metadata": {
        "execution": {
          "iopub.status.busy": "2024-04-22T20:04:52.861064Z",
          "iopub.execute_input": "2024-04-22T20:04:52.861511Z",
          "iopub.status.idle": "2024-04-22T20:04:52.868764Z",
          "shell.execute_reply.started": "2024-04-22T20:04:52.861477Z",
          "shell.execute_reply": "2024-04-22T20:04:52.867521Z"
        },
        "trusted": true,
        "id": "-WpgANEyw32J"
      },
      "execution_count": null,
      "outputs": []
    },
    {
      "cell_type": "code",
      "source": [
        "def app(input_text):\n",
        "    # Define the input text box\n",
        "    print('Input : ',input_text) #take input from user\n",
        "    processed_array = preprocess(input_text) #preprocess the text\n",
        "    predict = VotingClassifiers.predict(processed_array) #Model prediction\n",
        "    print('Output : ', predict[0])"
      ],
      "metadata": {
        "execution": {
          "iopub.status.busy": "2024-04-22T20:05:02.923562Z",
          "iopub.execute_input": "2024-04-22T20:05:02.924030Z",
          "iopub.status.idle": "2024-04-22T20:05:02.930123Z",
          "shell.execute_reply.started": "2024-04-22T20:05:02.923994Z",
          "shell.execute_reply": "2024-04-22T20:05:02.928770Z"
        },
        "trusted": true,
        "id": "RpAHEIPvw32K"
      },
      "execution_count": null,
      "outputs": []
    },
    {
      "cell_type": "code",
      "source": [
        "app(input())"
      ],
      "metadata": {
        "execution": {
          "iopub.status.busy": "2024-04-22T20:09:23.170068Z",
          "iopub.execute_input": "2024-04-22T20:09:23.170841Z",
          "iopub.status.idle": "2024-04-22T20:09:41.789946Z",
          "shell.execute_reply.started": "2024-04-22T20:09:23.170793Z",
          "shell.execute_reply": "2024-04-22T20:09:41.788768Z"
        },
        "trusted": true,
        "id": "2FvUR2sKw32K",
        "outputId": "d24acac3-b880-4b12-e46f-c13413da2ef4"
      },
      "execution_count": null,
      "outputs": [
        {
          "output_type": "stream",
          "name": "stdin",
          "text": " GUYS DON'T BREATHE OXYGEN! 100% of criminals have inhaled oxygen before the crime.  Just letting everyone here know for safety reasons.\n"
        },
        {
          "name": "stdout",
          "text": "Input :  GUYS DON'T BREATHE OXYGEN! 100% of criminals have inhaled oxygen before the crime.  Just letting everyone here know for safety reasons.\nOutput :  non-suicide\n",
          "output_type": "stream"
        }
      ]
    },
    {
      "cell_type": "code",
      "source": [
        "app(input())"
      ],
      "metadata": {
        "execution": {
          "iopub.status.busy": "2024-04-22T20:09:06.765196Z",
          "iopub.execute_input": "2024-04-22T20:09:06.766730Z",
          "iopub.status.idle": "2024-04-22T20:09:10.863007Z",
          "shell.execute_reply.started": "2024-04-22T20:09:06.766666Z",
          "shell.execute_reply": "2024-04-22T20:09:10.861749Z"
        },
        "trusted": true,
        "id": "Zhe8VY8aw32K",
        "outputId": "5dc85d26-af9e-4130-c09e-2fbd7c160458"
      },
      "execution_count": null,
      "outputs": [
        {
          "output_type": "stream",
          "name": "stdin",
          "text": " overdose or hangingI'm 14 should I overdose or hang myself\n"
        },
        {
          "name": "stdout",
          "text": "Input :  overdose or hangingI'm 14 should I overdose or hang myself\nOutput :  suicide\n",
          "output_type": "stream"
        }
      ]
    }
  ]
}